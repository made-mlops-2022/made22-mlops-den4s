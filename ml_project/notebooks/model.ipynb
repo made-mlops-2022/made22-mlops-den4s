{
 "cells": [
  {
   "cell_type": "markdown",
   "id": "551b9563",
   "metadata": {},
   "source": [
    "### Imports"
   ]
  },
  {
   "cell_type": "code",
   "execution_count": 1,
   "id": "015fdc54",
   "metadata": {},
   "outputs": [],
   "source": [
    "import numpy as np\n",
    "import pandas as pd"
   ]
  },
  {
   "cell_type": "code",
   "execution_count": 2,
   "id": "e0eb5f0e",
   "metadata": {},
   "outputs": [],
   "source": [
    "import matplotlib.pyplot as plt\n",
    "plt.style.use(\"seaborn\")\n",
    "%config InlineBackend.figure_format = 'retina'  # resolution setting for plots"
   ]
  },
  {
   "cell_type": "code",
   "execution_count": 3,
   "id": "49eb1011",
   "metadata": {},
   "outputs": [
    {
     "name": "stderr",
     "output_type": "stream",
     "text": [
      "<frozen importlib._bootstrap>:219: RuntimeWarning: scipy._lib.messagestream.MessageStream size changed, may indicate binary incompatibility. Expected 56 from C header, got 64 from PyObject\n"
     ]
    }
   ],
   "source": [
    "%matplotlib inline\n",
    "import seaborn as sns"
   ]
  },
  {
   "cell_type": "markdown",
   "id": "hydraulic-least",
   "metadata": {},
   "source": [
    "## Dataset\n",
    "_**Heart Disease Cleveland UCI**_ – [kaggle.com](https://www.kaggle.com/datasets/cherngs/heart-disease-cleveland-uci)"
   ]
  },
  {
   "cell_type": "code",
   "execution_count": 4,
   "id": "a9a2eeb7",
   "metadata": {},
   "outputs": [],
   "source": [
    "heart_dis_data = pd.read_csv(\"heart_cleveland_upload.csv\")"
   ]
  },
  {
   "cell_type": "code",
   "execution_count": 5,
   "id": "6b583156",
   "metadata": {},
   "outputs": [],
   "source": [
    "ANSWERS = \"condition\"  # `0` = no disease, `1` = disease"
   ]
  },
  {
   "cell_type": "markdown",
   "id": "9b84408f",
   "metadata": {},
   "source": [
    "### Features"
   ]
  },
  {
   "cell_type": "code",
   "execution_count": 6,
   "id": "7aac234a",
   "metadata": {},
   "outputs": [],
   "source": [
    "discrete_features = [\"sex\",       # 2. `1` = male; `0` = female\n",
    "                     \"cp\",        # 3. chest pain type (`0` = typical angina; `1` = atypical angina; `2` = non-anginal pain; `3` = asymptomatic)\n",
    "                     \"fbs\",       # 6. (fasting blood sugar > 120 mg/dl) (`1` = true; `0` = false)\n",
    "                     \"restecg\",   # 7. resting electrocardiographic results (`0` = normal; `1` = having ST-T wave abnormality; `2` = showing probable or definite left ventricular hypertrophy by Estes' criteria)\n",
    "                     \"exang\",     # 9. exercise induced angina (`1` = yes; `0` = no)\n",
    "                     \"slope\",     # 11. the slope of the peak exercise ST segment (`0` = upsloping; `1` = flat; `2` = downsloping)\n",
    "                     \"ca\",        # 12. number of major vessels (`0-3`) colored by flourosopy\n",
    "                     \"thal\"       # 13. `0` = normal; `1` = fixed defect; `2` = reversable defect\n",
    "                    ]"
   ]
  },
  {
   "cell_type": "code",
   "execution_count": 7,
   "id": "dc845138",
   "metadata": {},
   "outputs": [],
   "source": [
    "continuous_features = [\"age\",       # 1. age\n",
    "                       \"trestbps\",  # 4. resting blood pressure in mmHg\n",
    "                       \"chol\",      # 5. serum cholestoral in mg/dl\n",
    "                       \"thalach\",   # 8. maximum heart rate achieved\n",
    "                       \"oldpeak\"    # 10. ST depression induced by exercise relative to rest\n",
    "                      ]"
   ]
  },
  {
   "cell_type": "code",
   "execution_count": 8,
   "id": "f06a039e",
   "metadata": {},
   "outputs": [
    {
     "data": {
      "text/html": [
       "<div>\n",
       "<style scoped>\n",
       "    .dataframe tbody tr th:only-of-type {\n",
       "        vertical-align: middle;\n",
       "    }\n",
       "\n",
       "    .dataframe tbody tr th {\n",
       "        vertical-align: top;\n",
       "    }\n",
       "\n",
       "    .dataframe thead th {\n",
       "        text-align: right;\n",
       "    }\n",
       "</style>\n",
       "<table border=\"1\" class=\"dataframe\">\n",
       "  <thead>\n",
       "    <tr style=\"text-align: right;\">\n",
       "      <th></th>\n",
       "      <th>age</th>\n",
       "      <th>sex</th>\n",
       "      <th>cp</th>\n",
       "      <th>trestbps</th>\n",
       "      <th>chol</th>\n",
       "      <th>fbs</th>\n",
       "      <th>restecg</th>\n",
       "      <th>thalach</th>\n",
       "      <th>exang</th>\n",
       "      <th>oldpeak</th>\n",
       "      <th>slope</th>\n",
       "      <th>ca</th>\n",
       "      <th>thal</th>\n",
       "    </tr>\n",
       "  </thead>\n",
       "  <tbody>\n",
       "    <tr>\n",
       "      <th>0</th>\n",
       "      <td>69</td>\n",
       "      <td>1</td>\n",
       "      <td>0</td>\n",
       "      <td>160</td>\n",
       "      <td>234</td>\n",
       "      <td>1</td>\n",
       "      <td>2</td>\n",
       "      <td>131</td>\n",
       "      <td>0</td>\n",
       "      <td>0.1</td>\n",
       "      <td>1</td>\n",
       "      <td>1</td>\n",
       "      <td>0</td>\n",
       "    </tr>\n",
       "    <tr>\n",
       "      <th>1</th>\n",
       "      <td>69</td>\n",
       "      <td>0</td>\n",
       "      <td>0</td>\n",
       "      <td>140</td>\n",
       "      <td>239</td>\n",
       "      <td>0</td>\n",
       "      <td>0</td>\n",
       "      <td>151</td>\n",
       "      <td>0</td>\n",
       "      <td>1.8</td>\n",
       "      <td>0</td>\n",
       "      <td>2</td>\n",
       "      <td>0</td>\n",
       "    </tr>\n",
       "    <tr>\n",
       "      <th>2</th>\n",
       "      <td>66</td>\n",
       "      <td>0</td>\n",
       "      <td>0</td>\n",
       "      <td>150</td>\n",
       "      <td>226</td>\n",
       "      <td>0</td>\n",
       "      <td>0</td>\n",
       "      <td>114</td>\n",
       "      <td>0</td>\n",
       "      <td>2.6</td>\n",
       "      <td>2</td>\n",
       "      <td>0</td>\n",
       "      <td>0</td>\n",
       "    </tr>\n",
       "    <tr>\n",
       "      <th>3</th>\n",
       "      <td>65</td>\n",
       "      <td>1</td>\n",
       "      <td>0</td>\n",
       "      <td>138</td>\n",
       "      <td>282</td>\n",
       "      <td>1</td>\n",
       "      <td>2</td>\n",
       "      <td>174</td>\n",
       "      <td>0</td>\n",
       "      <td>1.4</td>\n",
       "      <td>1</td>\n",
       "      <td>1</td>\n",
       "      <td>0</td>\n",
       "    </tr>\n",
       "    <tr>\n",
       "      <th>4</th>\n",
       "      <td>64</td>\n",
       "      <td>1</td>\n",
       "      <td>0</td>\n",
       "      <td>110</td>\n",
       "      <td>211</td>\n",
       "      <td>0</td>\n",
       "      <td>2</td>\n",
       "      <td>144</td>\n",
       "      <td>1</td>\n",
       "      <td>1.8</td>\n",
       "      <td>1</td>\n",
       "      <td>0</td>\n",
       "      <td>0</td>\n",
       "    </tr>\n",
       "  </tbody>\n",
       "</table>\n",
       "</div>"
      ],
      "text/plain": [
       "   age  sex  cp  trestbps  chol  fbs  restecg  thalach  exang  oldpeak  slope  \\\n",
       "0   69    1   0       160   234    1        2      131      0      0.1      1   \n",
       "1   69    0   0       140   239    0        0      151      0      1.8      0   \n",
       "2   66    0   0       150   226    0        0      114      0      2.6      2   \n",
       "3   65    1   0       138   282    1        2      174      0      1.4      1   \n",
       "4   64    1   0       110   211    0        2      144      1      1.8      1   \n",
       "\n",
       "   ca  thal  \n",
       "0   1     0  \n",
       "1   2     0  \n",
       "2   0     0  \n",
       "3   1     0  \n",
       "4   0     0  "
      ]
     },
     "execution_count": 8,
     "metadata": {},
     "output_type": "execute_result"
    }
   ],
   "source": [
    "data_only_features = heart_dis_data.drop(ANSWERS, axis=1)\n",
    "data_only_features.head()"
   ]
  },
  {
   "cell_type": "markdown",
   "id": "functioning-scholar",
   "metadata": {},
   "source": [
    "## Model"
   ]
  },
  {
   "cell_type": "markdown",
   "id": "4bee5669",
   "metadata": {},
   "source": [
    "### Data normalization"
   ]
  },
  {
   "cell_type": "code",
   "execution_count": 9,
   "id": "c8686149",
   "metadata": {},
   "outputs": [],
   "source": [
    "from sklearn.preprocessing import StandardScaler"
   ]
  },
  {
   "cell_type": "code",
   "execution_count": 10,
   "id": "consecutive-canyon",
   "metadata": {},
   "outputs": [
    {
     "data": {
      "text/html": [
       "<div>\n",
       "<style scoped>\n",
       "    .dataframe tbody tr th:only-of-type {\n",
       "        vertical-align: middle;\n",
       "    }\n",
       "\n",
       "    .dataframe tbody tr th {\n",
       "        vertical-align: top;\n",
       "    }\n",
       "\n",
       "    .dataframe thead th {\n",
       "        text-align: right;\n",
       "    }\n",
       "</style>\n",
       "<table border=\"1\" class=\"dataframe\">\n",
       "  <thead>\n",
       "    <tr style=\"text-align: right;\">\n",
       "      <th></th>\n",
       "      <th>age</th>\n",
       "      <th>trestbps</th>\n",
       "      <th>chol</th>\n",
       "      <th>thalach</th>\n",
       "      <th>oldpeak</th>\n",
       "      <th>sex_0</th>\n",
       "      <th>sex_1</th>\n",
       "      <th>cp_0</th>\n",
       "      <th>cp_1</th>\n",
       "      <th>cp_2</th>\n",
       "      <th>...</th>\n",
       "      <th>slope_0</th>\n",
       "      <th>slope_1</th>\n",
       "      <th>slope_2</th>\n",
       "      <th>ca_0</th>\n",
       "      <th>ca_1</th>\n",
       "      <th>ca_2</th>\n",
       "      <th>ca_3</th>\n",
       "      <th>thal_0</th>\n",
       "      <th>thal_1</th>\n",
       "      <th>thal_2</th>\n",
       "    </tr>\n",
       "  </thead>\n",
       "  <tbody>\n",
       "    <tr>\n",
       "      <th>0</th>\n",
       "      <td>1.600302</td>\n",
       "      <td>1.596266</td>\n",
       "      <td>-0.257179</td>\n",
       "      <td>-0.812095</td>\n",
       "      <td>-0.820813</td>\n",
       "      <td>0</td>\n",
       "      <td>1</td>\n",
       "      <td>1</td>\n",
       "      <td>0</td>\n",
       "      <td>0</td>\n",
       "      <td>...</td>\n",
       "      <td>0</td>\n",
       "      <td>1</td>\n",
       "      <td>0</td>\n",
       "      <td>0</td>\n",
       "      <td>1</td>\n",
       "      <td>0</td>\n",
       "      <td>0</td>\n",
       "      <td>1</td>\n",
       "      <td>0</td>\n",
       "      <td>0</td>\n",
       "    </tr>\n",
       "    <tr>\n",
       "      <th>1</th>\n",
       "      <td>1.600302</td>\n",
       "      <td>0.468418</td>\n",
       "      <td>-0.160859</td>\n",
       "      <td>0.061157</td>\n",
       "      <td>0.639470</td>\n",
       "      <td>1</td>\n",
       "      <td>0</td>\n",
       "      <td>1</td>\n",
       "      <td>0</td>\n",
       "      <td>0</td>\n",
       "      <td>...</td>\n",
       "      <td>1</td>\n",
       "      <td>0</td>\n",
       "      <td>0</td>\n",
       "      <td>0</td>\n",
       "      <td>0</td>\n",
       "      <td>1</td>\n",
       "      <td>0</td>\n",
       "      <td>1</td>\n",
       "      <td>0</td>\n",
       "      <td>0</td>\n",
       "    </tr>\n",
       "    <tr>\n",
       "      <th>2</th>\n",
       "      <td>1.268242</td>\n",
       "      <td>1.032342</td>\n",
       "      <td>-0.411292</td>\n",
       "      <td>-1.554358</td>\n",
       "      <td>1.326662</td>\n",
       "      <td>1</td>\n",
       "      <td>0</td>\n",
       "      <td>1</td>\n",
       "      <td>0</td>\n",
       "      <td>0</td>\n",
       "      <td>...</td>\n",
       "      <td>0</td>\n",
       "      <td>0</td>\n",
       "      <td>1</td>\n",
       "      <td>1</td>\n",
       "      <td>0</td>\n",
       "      <td>0</td>\n",
       "      <td>0</td>\n",
       "      <td>1</td>\n",
       "      <td>0</td>\n",
       "      <td>0</td>\n",
       "    </tr>\n",
       "    <tr>\n",
       "      <th>3</th>\n",
       "      <td>1.157555</td>\n",
       "      <td>0.355633</td>\n",
       "      <td>0.667499</td>\n",
       "      <td>1.065396</td>\n",
       "      <td>0.295874</td>\n",
       "      <td>0</td>\n",
       "      <td>1</td>\n",
       "      <td>1</td>\n",
       "      <td>0</td>\n",
       "      <td>0</td>\n",
       "      <td>...</td>\n",
       "      <td>0</td>\n",
       "      <td>1</td>\n",
       "      <td>0</td>\n",
       "      <td>0</td>\n",
       "      <td>1</td>\n",
       "      <td>0</td>\n",
       "      <td>0</td>\n",
       "      <td>1</td>\n",
       "      <td>0</td>\n",
       "      <td>0</td>\n",
       "    </tr>\n",
       "    <tr>\n",
       "      <th>4</th>\n",
       "      <td>1.046868</td>\n",
       "      <td>-1.223355</td>\n",
       "      <td>-0.700254</td>\n",
       "      <td>-0.244481</td>\n",
       "      <td>0.639470</td>\n",
       "      <td>0</td>\n",
       "      <td>1</td>\n",
       "      <td>1</td>\n",
       "      <td>0</td>\n",
       "      <td>0</td>\n",
       "      <td>...</td>\n",
       "      <td>0</td>\n",
       "      <td>1</td>\n",
       "      <td>0</td>\n",
       "      <td>1</td>\n",
       "      <td>0</td>\n",
       "      <td>0</td>\n",
       "      <td>0</td>\n",
       "      <td>1</td>\n",
       "      <td>0</td>\n",
       "      <td>0</td>\n",
       "    </tr>\n",
       "  </tbody>\n",
       "</table>\n",
       "<p>5 rows × 28 columns</p>\n",
       "</div>"
      ],
      "text/plain": [
       "        age  trestbps      chol   thalach   oldpeak  sex_0  sex_1  cp_0  cp_1  \\\n",
       "0  1.600302  1.596266 -0.257179 -0.812095 -0.820813      0      1     1     0   \n",
       "1  1.600302  0.468418 -0.160859  0.061157  0.639470      1      0     1     0   \n",
       "2  1.268242  1.032342 -0.411292 -1.554358  1.326662      1      0     1     0   \n",
       "3  1.157555  0.355633  0.667499  1.065396  0.295874      0      1     1     0   \n",
       "4  1.046868 -1.223355 -0.700254 -0.244481  0.639470      0      1     1     0   \n",
       "\n",
       "   cp_2  ...  slope_0  slope_1  slope_2  ca_0  ca_1  ca_2  ca_3  thal_0  \\\n",
       "0     0  ...        0        1        0     0     1     0     0       1   \n",
       "1     0  ...        1        0        0     0     0     1     0       1   \n",
       "2     0  ...        0        0        1     1     0     0     0       1   \n",
       "3     0  ...        0        1        0     0     1     0     0       1   \n",
       "4     0  ...        0        1        0     1     0     0     0       1   \n",
       "\n",
       "   thal_1  thal_2  \n",
       "0       0       0  \n",
       "1       0       0  \n",
       "2       0       0  \n",
       "3       0       0  \n",
       "4       0       0  \n",
       "\n",
       "[5 rows x 28 columns]"
      ]
     },
     "execution_count": 10,
     "metadata": {},
     "output_type": "execute_result"
    }
   ],
   "source": [
    "# convert categorical variable into indicator variables\n",
    "norm_data_only_features = pd.get_dummies(data_only_features, columns=discrete_features)\n",
    "\n",
    "scaler = StandardScaler()  # x := (x - mean(x)) / standart_deviation(x)\n",
    "norm_data_only_features[continuous_features] = scaler.fit_transform(heart_dis_data[continuous_features])\n",
    "\n",
    "norm_data_only_features.head()"
   ]
  },
  {
   "cell_type": "markdown",
   "id": "bc70a264",
   "metadata": {},
   "source": [
    "### Imports"
   ]
  },
  {
   "cell_type": "code",
   "execution_count": 11,
   "id": "44a7b0ce",
   "metadata": {},
   "outputs": [],
   "source": [
    "import os\n",
    "import pickle\n",
    "import optuna"
   ]
  },
  {
   "cell_type": "code",
   "execution_count": 12,
   "id": "237492e1",
   "metadata": {},
   "outputs": [],
   "source": [
    "from sklearn.model_selection import train_test_split, cross_val_score"
   ]
  },
  {
   "cell_type": "code",
   "execution_count": 13,
   "id": "extended-junction",
   "metadata": {},
   "outputs": [],
   "source": [
    "X_train, X_test, y_train, y_test = train_test_split(norm_data_only_features, \n",
    "                                                    heart_dis_data[ANSWERS], \n",
    "                                                    test_size=0.2, \n",
    "                                                    random_state=32)"
   ]
  },
  {
   "cell_type": "code",
   "execution_count": 14,
   "id": "80c1773c",
   "metadata": {},
   "outputs": [],
   "source": [
    "from sklearn.ensemble import RandomForestClassifier\n",
    "from sklearn.linear_model import LogisticRegression\n",
    "from sklearn.metrics import accuracy_score, f1_score, confusion_matrix"
   ]
  },
  {
   "cell_type": "code",
   "execution_count": 15,
   "id": "b8a27f5b",
   "metadata": {},
   "outputs": [
    {
     "name": "stdout",
     "output_type": "stream",
     "text": [
      "Accuracy: 0.8736702127659575\n",
      "Best hyperparameters: {'classifier': 'LogReg', 'logistic-regularization': 0.44850313382734613, 'lr_intercept_scaling': 0.37602116282384473}\n",
      "CPU times: user 2.63 s, sys: 292 ms, total: 2.92 s\n",
      "Wall time: 8.25 s\n"
     ]
    }
   ],
   "source": [
    "%%time\n",
    "optuna.logging.set_verbosity(optuna.logging.WARNING) # disable warnings\n",
    "\n",
    "\n",
    "N_TRIALS = 300\n",
    "\n",
    "\n",
    "def objective(trial):\n",
    "    # choose classifier for the trial\n",
    "    classifier = trial.suggest_categorical(\"classifier\", [\"RandomForest\", \"LogReg\"])\n",
    "    \n",
    "    if classifier == \"RandomForest\":\n",
    "        n_estimators = trial.suggest_int(\"n_estimators\", 2, 25)\n",
    "        max_depth = trial.suggest_int(\"max_depth\", 2, 40)\n",
    "        # max_depth = int(trial.suggest_float(\"max_depth\", 1, 40, log=True))\n",
    "\n",
    "        clf = RandomForestClassifier(n_estimators=n_estimators,\n",
    "                                     max_depth=max_depth)\n",
    "    else:  # LogisticRegression classifier\n",
    "        reg_strength = trial.suggest_float(\"logistic-regularization\", 1e-4, 1)\n",
    "        intercept_scaling = trial.suggest_float(\"lr_intercept_scaling\", 1e-4, 1)\n",
    "    \n",
    "        clf = LogisticRegression(C=reg_strength, solver=\"liblinear\", \n",
    "                                 intercept_scaling=intercept_scaling)\n",
    "    #\n",
    "    with open(os.path.join(\"models\", f\"{trial.number}.pkl\"), \"wb\") as file:\n",
    "        pickle.dump(clf, file)\n",
    "    # return accuracy\n",
    "    return cross_val_score(clf, X_train, y_train, n_jobs=-1, cv=5).mean()\n",
    "\n",
    "\n",
    "study = optuna.create_study(direction='maximize')\n",
    "study.optimize(objective, n_trials=N_TRIALS)\n",
    "\n",
    "print(f\"Accuracy: {study.best_trial.value}\")\n",
    "print(f\"Best hyperparameters: {study.best_trial.params}\")"
   ]
  },
  {
   "cell_type": "code",
   "execution_count": 16,
   "id": "5ef34286",
   "metadata": {},
   "outputs": [
    {
     "name": "stdout",
     "output_type": "stream",
     "text": [
      "Test accuracy: 0.8166666666666667\n",
      "Test f1-score: 0.7755102040816326\n"
     ]
    }
   ],
   "source": [
    "with open(os.path.join(\"models\", f\"{study.best_trial.number}.pkl\"), \"rb\") as file:\n",
    "    best_clf = pickle.load(file)\n",
    "\n",
    "best_clf.fit(X_train, y_train)  # train the classifier extracted from file\n",
    "y_pred = best_clf.predict(X_test)  # test\n",
    "\n",
    "print(f\"Test accuracy: {accuracy_score(y_test, y_pred)}\")\n",
    "print(f\"Test f1-score: {f1_score(y_test, y_pred)}\")"
   ]
  },
  {
   "cell_type": "code",
   "execution_count": 17,
   "id": "5f31894b",
   "metadata": {},
   "outputs": [
    {
     "name": "stdout",
     "output_type": "stream",
     "text": [
      "Accuracy: 0.8885416666666666\n"
     ]
    }
   ],
   "source": [
    "# considering all dataset to evaluate accuracy\n",
    "cv_acc_mean = cross_val_score(best_clf, \n",
    "                              norm_data_only_features, heart_dis_data[ANSWERS],\n",
    "                              scoring=\"roc_auc\", cv=5).mean()\n",
    "print(f\"Accuracy: {cv_acc_mean}\")"
   ]
  },
  {
   "cell_type": "code",
   "execution_count": 23,
   "id": "7972339d",
   "metadata": {},
   "outputs": [
    {
     "data": {
      "image/png": "[encoded data removed]",
      "text/plain": [
       "<Figure size 600x400 with 1 Axes>"
      ]
     },
     "metadata": {
      "image/png": {
       "height": 370,
       "width": 550
      }
     },
     "output_type": "display_data"
    }
   ],
   "source": [
    "# plot settings\n",
    "plt.figure(figsize=(6, 4))\n",
    "no_disease_color_dark = \"mediumseagreen\"\n",
    "disease_color_dark = \"indianred\"\n",
    "\n",
    "\n",
    "def kde(y_pred_proba, target_val):\n",
    "    sns.kdeplot(y_pred_proba[target_val==0], \n",
    "                label=\"no disease\", color=no_disease_color_dark,\n",
    "                linewidth=1, alpha=0.3, fill=True) \n",
    "    sns.kdeplot(y_pred_proba[target_val==1], \n",
    "                label=\"disease\", color=disease_color_dark,\n",
    "                linewidth=1, alpha=0.3, fill=True) \n",
    "    plt.xlabel(\"$p_{disease}$\")\n",
    "    plt.xticks(np.arange(0, 1.25, 0.25))\n",
    "    plt.xlim([0, 1])\n",
    "    plt.ylabel(\"$N_{samples}$\")\n",
    "    plt.legend()\n",
    "\n",
    "\n",
    "kde(best_clf.predict_proba(X_train)[:, 1], y_train)\n",
    "plt.show()"
   ]
  },
  {
   "cell_type": "code",
   "execution_count": null,
   "id": "peaceful-definition",
   "metadata": {},
   "outputs": [],
   "source": []
  }
 ],
 "metadata": {
  "kernelspec": {
   "display_name": "Python 3 (ipykernel)",
   "language": "python",
   "name": "python3"
  },
  "language_info": {
   "codemirror_mode": {
    "name": "ipython",
    "version": 3
   },
   "file_extension": ".py",
   "mimetype": "text/x-python",
   "name": "python",
   "nbconvert_exporter": "python",
   "pygments_lexer": "ipython3",
   "version": "3.8.8"
  }
 },
 "nbformat": 4,
 "nbformat_minor": 5
}
